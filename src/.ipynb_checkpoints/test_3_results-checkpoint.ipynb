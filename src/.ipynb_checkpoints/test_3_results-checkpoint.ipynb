{
 "cells": [
  {
   "cell_type": "markdown",
   "metadata": {},
   "source": [
    "# Standard Libraries:"
   ]
  },
  {
   "cell_type": "code",
   "execution_count": 1,
   "metadata": {
    "collapsed": false
   },
   "outputs": [],
   "source": [
    "import pandas as pd\n",
    "import os\n",
    "from ggplot import *\n",
    "import numpy as np\n",
    "% matplotlib inline"
   ]
  },
  {
   "cell_type": "markdown",
   "metadata": {},
   "source": [
    "# Read Data and Process:"
   ]
  },
  {
   "cell_type": "code",
   "execution_count": 2,
   "metadata": {
    "collapsed": true
   },
   "outputs": [],
   "source": [
    "data_path = 'C:/Users/VN/Documents/GitHub/Sous-vide-crockpot/data'\n",
    "data_file = 'test3.csv'"
   ]
  },
  {
   "cell_type": "code",
   "execution_count": 13,
   "metadata": {
    "collapsed": false,
    "scrolled": true
   },
   "outputs": [
    {
     "data": {
      "text/html": [
       "<div>\n",
       "<table border=\"1\" class=\"dataframe\">\n",
       "  <thead>\n",
       "    <tr style=\"text-align: right;\">\n",
       "      <th></th>\n",
       "      <th>TIME(sec)</th>\n",
       "      <th>INPUT(F)</th>\n",
       "      <th>OUTPUT(msec)</th>\n",
       "      <th>Notes</th>\n",
       "      <th>Time_minutes</th>\n",
       "      <th>Temp_C</th>\n",
       "      <th>Effort</th>\n",
       "    </tr>\n",
       "  </thead>\n",
       "  <tbody>\n",
       "    <tr>\n",
       "      <th>0</th>\n",
       "      <td>0</td>\n",
       "      <td>177.24</td>\n",
       "      <td>-85662.53</td>\n",
       "      <td>Target temperature 165F</td>\n",
       "      <td>0.000000</td>\n",
       "      <td>80.688889</td>\n",
       "      <td>-571.083533</td>\n",
       "    </tr>\n",
       "    <tr>\n",
       "      <th>1</th>\n",
       "      <td>16</td>\n",
       "      <td>177.01</td>\n",
       "      <td>-84087.48</td>\n",
       "      <td>full pot of water</td>\n",
       "      <td>0.266667</td>\n",
       "      <td>80.561111</td>\n",
       "      <td>-560.583200</td>\n",
       "    </tr>\n",
       "    <tr>\n",
       "      <th>2</th>\n",
       "      <td>32</td>\n",
       "      <td>176.79</td>\n",
       "      <td>-82512.44</td>\n",
       "      <td>Kp = 7000</td>\n",
       "      <td>0.533333</td>\n",
       "      <td>80.438889</td>\n",
       "      <td>-550.082933</td>\n",
       "    </tr>\n",
       "    <tr>\n",
       "      <th>3</th>\n",
       "      <td>48</td>\n",
       "      <td>176.00</td>\n",
       "      <td>-77000.00</td>\n",
       "      <td>Ki = 0</td>\n",
       "      <td>0.800000</td>\n",
       "      <td>80.000000</td>\n",
       "      <td>-513.333333</td>\n",
       "    </tr>\n",
       "    <tr>\n",
       "      <th>4</th>\n",
       "      <td>63</td>\n",
       "      <td>175.44</td>\n",
       "      <td>-73062.50</td>\n",
       "      <td>Kd = 0</td>\n",
       "      <td>1.050000</td>\n",
       "      <td>79.688889</td>\n",
       "      <td>-487.083333</td>\n",
       "    </tr>\n",
       "  </tbody>\n",
       "</table>\n",
       "</div>"
      ],
      "text/plain": [
       "   TIME(sec)  INPUT(F)  OUTPUT(msec)                    Notes  Time_minutes  \\\n",
       "0          0    177.24     -85662.53  Target temperature 165F      0.000000   \n",
       "1         16    177.01     -84087.48        full pot of water      0.266667   \n",
       "2         32    176.79     -82512.44                Kp = 7000      0.533333   \n",
       "3         48    176.00     -77000.00                   Ki = 0      0.800000   \n",
       "4         63    175.44     -73062.50                   Kd = 0      1.050000   \n",
       "\n",
       "      Temp_C      Effort  \n",
       "0  80.688889 -571.083533  \n",
       "1  80.561111 -560.583200  \n",
       "2  80.438889 -550.082933  \n",
       "3  80.000000 -513.333333  \n",
       "4  79.688889 -487.083333  "
      ]
     },
     "execution_count": 13,
     "metadata": {},
     "output_type": "execute_result"
    }
   ],
   "source": [
    "data = pd.read_csv(os.path.join(data_path,data_file))\n",
    "data['Time_minutes'] = data['TIME(sec)'] / 60.0\n",
    "data['Temp_C'] = (data['INPUT(F)'] - 32) * 5.0 / 9\n",
    "data['Effort'] = 100.0 * data['OUTPUT(msec)']/15000.0\n",
    "data.head()"
   ]
  },
  {
   "cell_type": "code",
   "execution_count": 4,
   "metadata": {
    "collapsed": false
   },
   "outputs": [
    {
     "data": {
      "text/html": [
       "<div>\n",
       "<table border=\"1\" class=\"dataframe\">\n",
       "  <thead>\n",
       "    <tr style=\"text-align: right;\">\n",
       "      <th></th>\n",
       "      <th>TIME(sec)</th>\n",
       "      <th>INPUT(F)</th>\n",
       "      <th>OUTPUT(msec)</th>\n",
       "      <th>Time_minutes</th>\n",
       "      <th>Temp_C</th>\n",
       "    </tr>\n",
       "  </thead>\n",
       "  <tbody>\n",
       "    <tr>\n",
       "      <th>count</th>\n",
       "      <td>516.000000</td>\n",
       "      <td>516.000000</td>\n",
       "      <td>516.000000</td>\n",
       "      <td>516.000000</td>\n",
       "      <td>516.000000</td>\n",
       "    </tr>\n",
       "    <tr>\n",
       "      <th>mean</th>\n",
       "      <td>4060.048450</td>\n",
       "      <td>163.919709</td>\n",
       "      <td>7564.707558</td>\n",
       "      <td>67.667474</td>\n",
       "      <td>73.288727</td>\n",
       "    </tr>\n",
       "    <tr>\n",
       "      <th>std</th>\n",
       "      <td>2350.650798</td>\n",
       "      <td>2.084627</td>\n",
       "      <td>14592.176804</td>\n",
       "      <td>39.177513</td>\n",
       "      <td>1.158126</td>\n",
       "    </tr>\n",
       "    <tr>\n",
       "      <th>min</th>\n",
       "      <td>0.000000</td>\n",
       "      <td>160.140000</td>\n",
       "      <td>-85662.530000</td>\n",
       "      <td>0.000000</td>\n",
       "      <td>71.188889</td>\n",
       "    </tr>\n",
       "    <tr>\n",
       "      <th>25%</th>\n",
       "      <td>2030.000000</td>\n",
       "      <td>163.740000</td>\n",
       "      <td>7262.540000</td>\n",
       "      <td>33.833333</td>\n",
       "      <td>73.188889</td>\n",
       "    </tr>\n",
       "    <tr>\n",
       "      <th>50%</th>\n",
       "      <td>4060.000000</td>\n",
       "      <td>163.850000</td>\n",
       "      <td>8050.060000</td>\n",
       "      <td>67.666667</td>\n",
       "      <td>73.250000</td>\n",
       "    </tr>\n",
       "    <tr>\n",
       "      <th>75%</th>\n",
       "      <td>6090.000000</td>\n",
       "      <td>163.960000</td>\n",
       "      <td>8837.480000</td>\n",
       "      <td>101.500000</td>\n",
       "      <td>73.311111</td>\n",
       "    </tr>\n",
       "    <tr>\n",
       "      <th>max</th>\n",
       "      <td>8120.000000</td>\n",
       "      <td>177.240000</td>\n",
       "      <td>34037.520000</td>\n",
       "      <td>135.333333</td>\n",
       "      <td>80.688889</td>\n",
       "    </tr>\n",
       "  </tbody>\n",
       "</table>\n",
       "</div>"
      ],
      "text/plain": [
       "         TIME(sec)    INPUT(F)  OUTPUT(msec)  Time_minutes      Temp_C\n",
       "count   516.000000  516.000000    516.000000    516.000000  516.000000\n",
       "mean   4060.048450  163.919709   7564.707558     67.667474   73.288727\n",
       "std    2350.650798    2.084627  14592.176804     39.177513    1.158126\n",
       "min       0.000000  160.140000 -85662.530000      0.000000   71.188889\n",
       "25%    2030.000000  163.740000   7262.540000     33.833333   73.188889\n",
       "50%    4060.000000  163.850000   8050.060000     67.666667   73.250000\n",
       "75%    6090.000000  163.960000   8837.480000    101.500000   73.311111\n",
       "max    8120.000000  177.240000  34037.520000    135.333333   80.688889"
      ]
     },
     "execution_count": 4,
     "metadata": {},
     "output_type": "execute_result"
    }
   ],
   "source": [
    "data.describe()"
   ]
  },
  {
   "cell_type": "markdown",
   "metadata": {},
   "source": [
    "# Results:"
   ]
  },
  {
   "cell_type": "code",
   "execution_count": 18,
   "metadata": {
    "collapsed": false
   },
   "outputs": [
    {
     "data": {
      "image/png": "[encoded data removed]",
      "text/plain": [
       "<matplotlib.figure.Figure at 0x1becc6a0>"
      ]
     },
     "metadata": {},
     "output_type": "display_data"
    },
    {
     "data": {
      "text/plain": [
       "<ggplot: (24527350)>"
      ]
     },
     "execution_count": 18,
     "metadata": {},
     "output_type": "execute_result"
    }
   ],
   "source": [
    "ggplot(aes(x='Time_minutes', y = 'INPUT(F)', color = 'Effort'), data = data[data.Time_minutes > 40])\\\n",
    "+ geom_point(alpha = .5)\\\n"
   ]
  },
  {
   "cell_type": "code",
   "execution_count": 9,
   "metadata": {
    "collapsed": false
   },
   "outputs": [
    {
     "data": {
      "image/png": "[encoded data removed]",
      "text/plain": [
       "<matplotlib.figure.Figure at 0x1b85e2b0>"
      ]
     },
     "metadata": {},
     "output_type": "display_data"
    },
    {
     "data": {
      "text/plain": [
       "<ggplot: (28422467)>"
      ]
     },
     "execution_count": 9,
     "metadata": {},
     "output_type": "execute_result"
    }
   ],
   "source": [
    "ggplot(aes(x='Time_minutes', y = 'INPUT(F)'), data = data[(data.Time_minutes > 50) & (data.Time_minutes < 65)])\\\n",
    "+ geom_point(alpha = .5)\\\n"
   ]
  },
  {
   "cell_type": "code",
   "execution_count": 11,
   "metadata": {
    "collapsed": false
   },
   "outputs": [],
   "source": [
    "time_diff = pd.DataFrame()\n",
    "time_diff['time_diff'] = np.diff(data['TIME(sec)'])"
   ]
  }
 ],
 "metadata": {
  "kernelspec": {
   "display_name": "Python 2",
   "language": "python",
   "name": "python2"
  },
  "language_info": {
   "codemirror_mode": {
    "name": "ipython",
    "version": 2
   },
   "file_extension": ".py",
   "mimetype": "text/x-python",
   "name": "python",
   "nbconvert_exporter": "python",
   "pygments_lexer": "ipython2",
   "version": "2.7.10"
  }
 },
 "nbformat": 4,
 "nbformat_minor": 0
}
